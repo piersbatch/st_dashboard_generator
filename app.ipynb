{
 "cells": [
  {
   "cell_type": "code",
   "execution_count": 1,
   "metadata": {},
   "outputs": [],
   "source": [
    "emailformatresponse = \"According to the search results, the email format for Capital on Tap is [first].[last]@capitalontap.com or [first]@[companyname].com. Therefore, the email address for a person named 'Ben Jones' at Capital on Tap could be ben.jones@capitalontap.com or ben@capitalontap.com. It's worth noting that this is just a guess based on the most common email formats used by the company, and it may not actually be Ben Jones' email address. If you need to reach out to a specific person at Capital on Tap, it's best to contact the company directly for more information.\""
   ]
  },
  {
   "cell_type": "code",
   "execution_count": 4,
   "metadata": {},
   "outputs": [
    {
     "name": "stdout",
     "output_type": "stream",
     "text": [
      "ben.jones@capitalontap.com; ben@capitalontap.com\n"
     ]
    }
   ],
   "source": [
    "#------ Extracts emails from youchat\n",
    "import re\n",
    "email_regex = r'\\b[A-Za-z0-9._%+-]+@[A-Za-z0-9.-]+\\.[A-Z|a-z]{2,}\\b'\n",
    "emails = re.findall(email_regex, emailformatresponse)\n",
    "email_str = \"; \".join(emails)\n",
    "print(email_str)"
   ]
  },
  {
   "cell_type": "code",
   "execution_count": null,
   "metadata": {},
   "outputs": [],
   "source": [
    "#------ STREAMLIT FORMS\n",
    "st.header('Add a new contact')\n",
    "\n",
    "name = st.text_input('Name')\n",
    "company = st.text_input('Company')\n",
    "email = st.text_input('Email')\n",
    "notes = st.text_area('Notes')\n",
    "job_title = st.text_input('Job Title')\n",
    "job_function = st.text_input('Job Function')\n",
    "\n",
    "if st.button('Add Contact'):\n",
    "    # TODO: Add Hubspot API code here to create a new contact"
   ]
  },
  {
   "cell_type": "code",
   "execution_count": null,
   "metadata": {},
   "outputs": [],
   "source": [
    "#------ Hubspot Forms\n",
    "new_contact = {\n",
    "    'properties': [\n",
    "        {'property': 'firstname', 'value': name.split()[0]},\n",
    "        {'property': 'lastname', 'value': ' '.join(name.split()[1:])},\n",
    "        {'property': 'company', 'value': company},\n",
    "        {'property': 'email', 'value': email},\n",
    "        {'property': 'notes', 'value': notes},\n",
    "        {'property': 'jobtitle', 'value': job_title},\n",
    "        {'property': 'jobfunction', 'value': job_function},\n",
    "    ]\n",
    "}\n",
    "\n",
    "response = hubspot.contact.create(data=new_contact)\n",
    "st.success('Contact added successfully!')"
   ]
  }
 ],
 "metadata": {
  "kernelspec": {
   "display_name": "Python 3",
   "language": "python",
   "name": "python3"
  },
  "language_info": {
   "codemirror_mode": {
    "name": "ipython",
    "version": 3
   },
   "file_extension": ".py",
   "mimetype": "text/x-python",
   "name": "python",
   "nbconvert_exporter": "python",
   "pygments_lexer": "ipython3",
   "version": "3.8.13"
  },
  "orig_nbformat": 4,
  "vscode": {
   "interpreter": {
    "hash": "26de051ba29f2982a8de78e945f0abaf191376122a1563185a90213a26c5da77"
   }
  }
 },
 "nbformat": 4,
 "nbformat_minor": 2
}
